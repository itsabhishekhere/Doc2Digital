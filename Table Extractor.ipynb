{
 "cells": [
  {
   "cell_type": "markdown",
   "metadata": {},
   "source": [
    "# Table Extractor"
   ]
  },
  {
   "cell_type": "markdown",
   "metadata": {},
   "source": [
    "Table Extracter is used for extracting data from images. For example we want to extarct data from the image containing table so by this extracter we can extract data from image and save it in an excel sheet.\n",
    "\n",
    "Here we go ::::::"
   ]
  },
  {
   "cell_type": "markdown",
   "metadata": {},
   "source": [
    "### Import necessary Libraries "
   ]
  },
  {
   "cell_type": "code",
   "execution_count": 69,
   "metadata": {},
   "outputs": [],
   "source": [
    "import cv2\n",
    "import numpy as np\n",
    "import pandas as pd\n",
    "import matplotlib.pyplot as plt\n",
    "import csv\n",
    "try:\n",
    "    from PIL import Image\n",
    "except ImportError:\n",
    "    import Image\n",
    "import pytesseract"
   ]
  },
  {
   "cell_type": "markdown",
   "metadata": {},
   "source": [
    "### Read Image, Thresholding, Inverting "
   ]
  },
  {
   "cell_type": "code",
   "execution_count": 71,
   "metadata": {},
   "outputs": [
    {
     "name": "stdout",
     "output_type": "stream",
     "text": [
      "C:\\Users\\Sunshine\\Downloads\\Compressed\\Table-Extracter\\Detect-Test\n"
     ]
    }
   ],
   "source": [
    "cd C:\\Users\\Sunshine\\Downloads\\Compressed\\Table-Extracter\\Detect-Test"
   ]
  },
  {
   "cell_type": "code",
   "execution_count": 72,
   "metadata": {},
   "outputs": [
    {
     "name": "stdout",
     "output_type": "stream",
     "text": [
      "(699, 2001)\n"
     ]
    },
    {
     "data": {
      "text/plain": [
       "True"
      ]
     },
     "execution_count": 72,
     "metadata": {},
     "output_type": "execute_result"
    },
    {
     "data": {
      "image/png": "[encoded data removed]",
      "text/plain": [
       "<Figure size 432x288 with 1 Axes>"
      ]
     },
     "metadata": {
      "needs_background": "light"
     },
     "output_type": "display_data"
    }
   ],
   "source": [
    "import re\n",
    "\n",
    "# Read Image\n",
    "file=r'Test.jpg'\n",
    "img = cv2.imread(file,0)\n",
    "print(img.shape)\n",
    "plt.imshow(img, cmap = 'gray')\n",
    "plt.axis('off')\n",
    "\n",
    "# Thresholding Process i.e to convert the input image to a binary image\n",
    "thresh,img_bin = cv2.threshold(img,128,255,cv2.THRESH_BINARY |cv2.THRESH_OTSU)\n",
    "\n",
    "# Inverting it to get a black background and white lines and fonts.\n",
    "# Save it in system for furthur usage\n",
    "img_bin = 255-img_bin\n",
    "cv2.imwrite(r'cv_inverted.png',img_bin)"
   ]
  },
  {
   "cell_type": "markdown",
   "metadata": {},
   "source": [
    "### Plotting Results"
   ]
  },
  {
   "cell_type": "code",
   "execution_count": 73,
   "metadata": {},
   "outputs": [
    {
     "data": {
      "image/png": "[encoded data removed]",
      "text/plain": [
       "<Figure size 432x288 with 1 Axes>"
      ]
     },
     "metadata": {
      "needs_background": "light"
     },
     "output_type": "display_data"
    }
   ],
   "source": [
    "# Plotting the image to see the output\n",
    "plotting = plt.imshow(img_bin,cmap='gray')\n",
    "plt.show()"
   ]
  },
  {
   "cell_type": "code",
   "execution_count": 74,
   "metadata": {},
   "outputs": [],
   "source": [
    "# Length(width) of kernel as 100th of total width\n",
    "kernel_len = np.array(img).shape[1]//100\n",
    "\n",
    "# Defining a vertical kernel to detect all vertical lines of image \n",
    "ver_kernel = cv2.getStructuringElement(cv2.MORPH_RECT, (1, kernel_len))\n",
    "\n",
    "# Defining a horizontal kernel to detect all horizontal lines of image\n",
    "hor_kernel = cv2.getStructuringElement(cv2.MORPH_RECT, (kernel_len, 1))\n",
    "\n",
    "# A kernel of 2x2\n",
    "kernel = cv2.getStructuringElement(cv2.MORPH_RECT, (2, 2))"
   ]
  },
  {
   "cell_type": "markdown",
   "metadata": {},
   "source": [
    "### Detecting Vertical Lines by vertical Kernel."
   ]
  },
  {
   "cell_type": "code",
   "execution_count": 75,
   "metadata": {},
   "outputs": [
    {
     "data": {
      "text/plain": [
       "True"
      ]
     },
     "execution_count": 75,
     "metadata": {},
     "output_type": "execute_result"
    }
   ],
   "source": [
    "#Use vertical kernel to detect and save the vertical lines in a jpg\n",
    "image_1 = cv2.erode(img_bin, ver_kernel, iterations=3)\n",
    "vertical_lines = cv2.dilate(image_1, ver_kernel, iterations=3)\n",
    "cv2.imwrite(r\"vertical.jpg\",vertical_lines)"
   ]
  },
  {
   "cell_type": "code",
   "execution_count": 76,
   "metadata": {},
   "outputs": [
    {
     "data": {
      "image/png": "[encoded data removed]",
      "text/plain": [
       "<Figure size 432x288 with 1 Axes>"
      ]
     },
     "metadata": {
      "needs_background": "light"
     },
     "output_type": "display_data"
    }
   ],
   "source": [
    "#Plot the generated image\n",
    "plotting = plt.imshow(image_1,cmap='gray')\n",
    "plt.show()"
   ]
  },
  {
   "cell_type": "markdown",
   "metadata": {},
   "source": [
    "### Detecting Horizontal Lines by horizontal kernel."
   ]
  },
  {
   "cell_type": "code",
   "execution_count": 77,
   "metadata": {},
   "outputs": [
    {
     "data": {
      "text/plain": [
       "True"
      ]
     },
     "execution_count": 77,
     "metadata": {},
     "output_type": "execute_result"
    }
   ],
   "source": [
    "#Use horizontal kernel to detect and save the horizontal lines in a jpg\n",
    "image_2 = cv2.erode(img_bin, hor_kernel, iterations=3)\n",
    "horizontal_lines = cv2.dilate(image_2, hor_kernel, iterations=3)\n",
    "cv2.imwrite(r\"horizontal.jpg\",horizontal_lines)\n"
   ]
  },
  {
   "cell_type": "code",
   "execution_count": 78,
   "metadata": {},
   "outputs": [
    {
     "data": {
      "image/png": "[encoded data removed]",
      "text/plain": [
       "<Figure size 432x288 with 1 Axes>"
      ]
     },
     "metadata": {
      "needs_background": "light"
     },
     "output_type": "display_data"
    }
   ],
   "source": [
    "#Plot the generated image\n",
    "plotting = plt.imshow(image_2,cmap='gray')\n",
    "plt.show()"
   ]
  },
  {
   "cell_type": "markdown",
   "metadata": {},
   "source": [
    "### Combining Both results into one image "
   ]
  },
  {
   "cell_type": "code",
   "execution_count": 79,
   "metadata": {},
   "outputs": [],
   "source": [
    "# Combine horizontal and vertical lines in a new third image, with both having same weight.\n",
    "img_vh = cv2.addWeighted(vertical_lines, 0.5, horizontal_lines, 0.5, 0.0)\n",
    "\n",
    "#Eroding and thesholding the image\n",
    "img_vh = cv2.erode(~img_vh, kernel, iterations=2)\n",
    "thresh, img_vh = cv2.threshold(img_vh,128,255, cv2.THRESH_BINARY | cv2.THRESH_OTSU)\n",
    "cv2.imwrite(r\"img_vh.jpg\", img_vh)\n",
    "bitxor = cv2.bitwise_xor(img,img_vh)\n",
    "bitnot = cv2.bitwise_not(bitxor)"
   ]
  },
  {
   "cell_type": "code",
   "execution_count": 80,
   "metadata": {},
   "outputs": [
    {
     "data": {
      "image/png": "[encoded data removed]",
      "text/plain": [
       "<Figure size 432x288 with 1 Axes>"
      ]
     },
     "metadata": {
      "needs_background": "light"
     },
     "output_type": "display_data"
    }
   ],
   "source": [
    "#Plotting the generated image\n",
    "plotting = plt.imshow(bitnot,cmap='gray')\n",
    "plt.show()"
   ]
  },
  {
   "cell_type": "code",
   "execution_count": 81,
   "metadata": {},
   "outputs": [],
   "source": [
    "contours, hierarchy = cv2.findContours(img_vh, cv2.RETR_TREE, cv2.CHAIN_APPROX_SIMPLE)"
   ]
  },
  {
   "cell_type": "code",
   "execution_count": 82,
   "metadata": {},
   "outputs": [],
   "source": [
    "def sort_contours(cnts, method=\"left-to-right\"):\n",
    "    \n",
    "    \n",
    "    # initialize the reverse flag and sort index\n",
    "    reverse = False\n",
    "    i = 0\n",
    "    # handle if we need to sort in reverse\n",
    "    if method == \"right-to-left\" or method == \"bottom-to-top\":\n",
    "        reverse = True\n",
    "    # handle if we are sorting against the y-coordinate rather than\n",
    "    # the x-coordinate of the bounding box\n",
    "    if method == \"top-to-bottom\" or method == \"bottom-to-top\":\n",
    "        i = 1\n",
    "    # construct the list of bounding boxes and sort them from top to\n",
    "    # bottom\n",
    "    boundingBoxes = [cv2.boundingRect(c) for c in cnts]\n",
    "    (cnts, boundingBoxes) = zip(*sorted(zip(cnts, boundingBoxes),\n",
    "    key=lambda b:b[1][i], reverse=reverse))\n",
    "    # return the list of sorted contours and bounding boxes\n",
    "    return (cnts, boundingBoxes)\n",
    "\n",
    "# Sort all the contours by top to bottom.\n",
    "contours, boundingBoxes = sort_contours(contours, method=\"top-to-bottom\")"
   ]
  },
  {
   "cell_type": "code",
   "execution_count": 83,
   "metadata": {},
   "outputs": [],
   "source": [
    "#Creating a list of heights for all detected boxes\n",
    "heights = [boundingBoxes[i][3] for i in range(len(boundingBoxes))]\n",
    "#Get mean of heights\n",
    "mean = np.mean(heights)"
   ]
  },
  {
   "cell_type": "code",
   "execution_count": 84,
   "metadata": {},
   "outputs": [
    {
     "data": {
      "image/png": "[encoded data removed]",
      "text/plain": [
       "<Figure size 432x288 with 1 Axes>"
      ]
     },
     "metadata": {
      "needs_background": "light"
     },
     "output_type": "display_data"
    }
   ],
   "source": [
    "#Create list box to store all boxes in  \n",
    "box = []\n",
    "# Get position (x,y), width and height for every contour and show the contour on image\n",
    "for c in contours:\n",
    "    x, y, w, h = cv2.boundingRect(c)\n",
    "    if (w<1000 and h<500):\n",
    "        image = cv2.rectangle(img,(x,y),(x+w,y+h),(0,255,0),2)\n",
    "        box.append([x,y,w,h])\n",
    "plotting = plt.imshow(image,cmap='gray')\n",
    "plt.show()"
   ]
  },
  {
   "cell_type": "code",
   "execution_count": 85,
   "metadata": {},
   "outputs": [
    {
     "name": "stdout",
     "output_type": "stream",
     "text": [
      "[[1626, 514, 294, 96], [1328, 514, 293, 96], [1030, 514, 294, 96], [733, 514, 293, 96], [435, 514, 294, 96], [138, 514, 293, 96]]\n",
      "[[[1626, 14, 294, 96], [1328, 14, 294, 96], [1030, 14, 294, 96], [733, 14, 293, 96], [435, 14, 294, 96], [138, 14, 293, 96]], [[1626, 114, 294, 96], [1328, 114, 293, 96], [1030, 114, 294, 96], [733, 114, 293, 96], [435, 114, 294, 96], [138, 114, 293, 96]], [[1626, 214, 294, 96], [1328, 214, 294, 96], [1030, 214, 294, 96], [733, 214, 293, 96], [435, 214, 294, 96], [138, 214, 293, 96]], [[1626, 314, 294, 96], [1328, 314, 293, 96], [1030, 314, 294, 96], [733, 314, 293, 96], [435, 314, 294, 96], [138, 314, 293, 96]], [[1626, 414, 294, 96], [1328, 414, 293, 96], [1030, 414, 294, 96], [733, 414, 293, 96], [435, 414, 294, 96], [138, 414, 293, 96]], [[1626, 514, 294, 96], [1328, 514, 293, 96], [1030, 514, 294, 96], [733, 514, 293, 96], [435, 514, 294, 96], [138, 514, 293, 96]]]\n"
     ]
    }
   ],
   "source": [
    "#Creating two lists to define row and column in which cell is located\n",
    "row=[]\n",
    "column=[]\n",
    "j=0\n",
    "#Sorting the boxes to their respective row and column\n",
    "for i in range(len(box)):\n",
    "    if(i==0):\n",
    "        column.append(box[i])\n",
    "        previous=box[i]\n",
    "    else:\n",
    "        if(box[i][1]<=previous[1]+mean/2):\n",
    "            column.append(box[i])\n",
    "            previous=box[i]\n",
    "            if(i==len(box)-1):\n",
    "                row.append(column)\n",
    "        else:\n",
    "            row.append(column)\n",
    "            column=[]\n",
    "            previous = box[i]\n",
    "            column.append(box[i])\n",
    "print(column)\n",
    "print(row)"
   ]
  },
  {
   "cell_type": "code",
   "execution_count": 86,
   "metadata": {},
   "outputs": [],
   "source": [
    "#calculating maximum number of cells\n",
    "countcol = 0\n",
    "for i in range(len(row)):\n",
    "    countcol = len(row[i])\n",
    "    if countcol > countcol:\n",
    "        countcol = countcol"
   ]
  },
  {
   "cell_type": "code",
   "execution_count": 87,
   "metadata": {},
   "outputs": [],
   "source": [
    "#Retrieving the center of each column\n",
    "center = [int(row[i][j][0]+row[i][j][2]/2) for j in range(len(row[i])) if row[0]]\n",
    "center=np.array(center)\n",
    "center.sort()"
   ]
  },
  {
   "cell_type": "code",
   "execution_count": 88,
   "metadata": {},
   "outputs": [],
   "source": [
    "#Regarding the distance to the columns center, the boxes are arranged in respective order\n",
    "finalboxes = []\n",
    "for i in range(len(row)):\n",
    "    lis=[]\n",
    "    for k in range(countcol):\n",
    "        lis.append([])\n",
    "    for j in range(len(row[i])):\n",
    "        diff = abs(center-(row[i][j][0]+row[i][j][2]/4))\n",
    "        minimum = min(diff)\n",
    "        indexing = list(diff).index(minimum)\n",
    "        lis[indexing].append(row[i][j])\n",
    "    finalboxes.append(lis)"
   ]
  },
  {
   "cell_type": "code",
   "execution_count": 89,
   "metadata": {},
   "outputs": [],
   "source": [
    "#from every single image-based cell/box the strings are extracted via pytesseract and stored in a list\n",
    "pytesseract.pytesseract.tesseract_cmd = r\"C:\\Program Files\\Tesseract-OCR\\tesseract.exe\"\n",
    "\n",
    "outer=[]\n",
    "for i in range(len(finalboxes)):\n",
    "    for j in range(len(finalboxes[i])):\n",
    "        inner=''\n",
    "        if(len(finalboxes[i][j])==0):\n",
    "            outer.append(' ')\n",
    "        else:\n",
    "            for k in range(len(finalboxes[i][j])):\n",
    "                y,x,w,h = finalboxes[i][j][k][0],finalboxes[i][j][k][1], finalboxes[i][j][k][2],finalboxes[i][j][k][3]\n",
    "                finalimg = bitnot[x:x+h, y:y+w]\n",
    "                kernel = cv2.getStructuringElement(cv2.MORPH_RECT, (2, 1))\n",
    "                border = cv2.copyMakeBorder(finalimg,2,2,2,2,   cv2.BORDER_CONSTANT,value=[255,255])\n",
    "                resizing = cv2.resize(border, None, fx=2, fy=2, interpolation=cv2.INTER_CUBIC)\n",
    "                dilation = cv2.dilate(resizing, kernel,iterations=1)\n",
    "                erosion = cv2.erode(dilation, kernel,iterations=1)\n",
    "\n",
    "                \n",
    "                out = pytesseract.image_to_string(erosion)\n",
    "                if(len(out)==0):\n",
    "                    out = pytesseract.image_to_string(erosion, config='--psm 3')\n",
    "                inner = inner +\" \"+ out\n",
    "            outer.append(inner)"
   ]
  },
  {
   "cell_type": "code",
   "execution_count": 90,
   "metadata": {},
   "outputs": [
    {
     "name": "stdout",
     "output_type": "stream",
     "text": [
      "          0           1          2       3          4          5\n",
      "0         \f",
      "       QI\\n\f",
      "      Q2\\n\f",
      "   Q3\\n\f",
      "      Q4\\n\f",
      "   Total\\n\f",
      "\n",
      "1   2004\\n\f",
      "           \f",
      "          \f",
      "       \f",
      "          \f",
      "   166.7\\n\f",
      "\n",
      "2   2005\\n\f",
      "           \f",
      "    63.4\\n\f",
      "       \f",
      "    00.2\\n\f",
      "   238.4\\n\f",
      "\n",
      "3   2006\\n\f",
      "     74.7\\n\f",
      "    84.1\\n\f",
      "       \f",
      "   111.8\\n\f",
      "   367.1\\n\f",
      "\n",
      "4   2007\\n\f",
      "   1438.8\\n\f",
      "   142.3\\n\f",
      "       \f",
      "   186.1\\n\f",
      "          \f",
      "\n",
      "5   2008\\n\f",
      "    120.9\\n\f",
      "     106\\n\f",
      "       \f",
      "          \f",
      "   226.8\\n\f",
      "\n"
     ]
    }
   ],
   "source": [
    "#Creating a dataframe of the generated OCR list\n",
    "arr = np.array(outer)\n",
    "dataframe = pd.DataFrame(arr.reshape(len(row),countcol))\n",
    "print(dataframe)\n",
    "data = dataframe.style.set_properties(align=\"left\")\n",
    "#Converting it in a excel-file\n",
    "data.to_excel(\"test.xlsx\")"
   ]
  },
  {
   "cell_type": "code",
   "execution_count": 91,
   "metadata": {},
   "outputs": [
    {
     "data": {
      "text/html": [
       "<div>\n",
       "<style scoped>\n",
       "    .dataframe tbody tr th:only-of-type {\n",
       "        vertical-align: middle;\n",
       "    }\n",
       "\n",
       "    .dataframe tbody tr th {\n",
       "        vertical-align: top;\n",
       "    }\n",
       "\n",
       "    .dataframe thead th {\n",
       "        text-align: right;\n",
       "    }\n",
       "</style>\n",
       "<table border=\"1\" class=\"dataframe\">\n",
       "  <thead>\n",
       "    <tr style=\"text-align: right;\">\n",
       "      <th></th>\n",
       "      <th>0</th>\n",
       "      <th>1</th>\n",
       "      <th>2</th>\n",
       "      <th>3</th>\n",
       "      <th>4</th>\n",
       "      <th>5</th>\n",
       "    </tr>\n",
       "  </thead>\n",
       "  <tbody>\n",
       "    <tr>\n",
       "      <td>0</td>\n",
       "      <td></td>\n",
       "      <td>QI\\n</td>\n",
       "      <td>Q2\\n</td>\n",
       "      <td>Q3\\n</td>\n",
       "      <td>Q4\\n</td>\n",
       "      <td>Total\\n</td>\n",
       "    </tr>\n",
       "    <tr>\n",
       "      <td>1</td>\n",
       "      <td>2004\\n</td>\n",
       "      <td></td>\n",
       "      <td></td>\n",
       "      <td></td>\n",
       "      <td></td>\n",
       "      <td>166.7\\n</td>\n",
       "    </tr>\n",
       "    <tr>\n",
       "      <td>2</td>\n",
       "      <td>2005\\n</td>\n",
       "      <td></td>\n",
       "      <td>63.4\\n</td>\n",
       "      <td></td>\n",
       "      <td>00.2\\n</td>\n",
       "      <td>238.4\\n</td>\n",
       "    </tr>\n",
       "    <tr>\n",
       "      <td>3</td>\n",
       "      <td>2006\\n</td>\n",
       "      <td>74.7\\n</td>\n",
       "      <td>84.1\\n</td>\n",
       "      <td></td>\n",
       "      <td>111.8\\n</td>\n",
       "      <td>367.1\\n</td>\n",
       "    </tr>\n",
       "    <tr>\n",
       "      <td>4</td>\n",
       "      <td>2007\\n</td>\n",
       "      <td>1438.8\\n</td>\n",
       "      <td>142.3\\n</td>\n",
       "      <td></td>\n",
       "      <td>186.1\\n</td>\n",
       "      <td></td>\n",
       "    </tr>\n",
       "    <tr>\n",
       "      <td>5</td>\n",
       "      <td>2008\\n</td>\n",
       "      <td>120.9\\n</td>\n",
       "      <td>106\\n</td>\n",
       "      <td></td>\n",
       "      <td></td>\n",
       "      <td>226.8\\n</td>\n",
       "    </tr>\n",
       "  </tbody>\n",
       "</table>\n",
       "</div>"
      ],
      "text/plain": [
       "          0           1          2       3          4          5\n",
       "0         \n",
       "       QI\\n\n",
       "      Q2\\n\n",
       "   Q3\\n\n",
       "      Q4\\n\n",
       "   Total\\n\n",
       "\n",
       "1   2004\\n\n",
       "           \n",
       "          \n",
       "       \n",
       "          \n",
       "   166.7\\n\n",
       "\n",
       "2   2005\\n\n",
       "           \n",
       "    63.4\\n\n",
       "       \n",
       "    00.2\\n\n",
       "   238.4\\n\n",
       "\n",
       "3   2006\\n\n",
       "     74.7\\n\n",
       "    84.1\\n\n",
       "       \n",
       "   111.8\\n\n",
       "   367.1\\n\n",
       "\n",
       "4   2007\\n\n",
       "   1438.8\\n\n",
       "   142.3\\n\n",
       "       \n",
       "   186.1\\n\n",
       "          \n",
       "\n",
       "5   2008\\n\n",
       "    120.9\\n\n",
       "     106\\n\n",
       "       \n",
       "          \n",
       "   226.8\\n"
      ]
     },
     "execution_count": 91,
     "metadata": {},
     "output_type": "execute_result"
    }
   ],
   "source": [
    "dataframe"
   ]
  },
  {
   "cell_type": "code",
   "execution_count": 68,
   "metadata": {},
   "outputs": [
    {
     "data": {
      "text/html": [
       "<div>\n",
       "<style scoped>\n",
       "    .dataframe tbody tr th:only-of-type {\n",
       "        vertical-align: middle;\n",
       "    }\n",
       "\n",
       "    .dataframe tbody tr th {\n",
       "        vertical-align: top;\n",
       "    }\n",
       "\n",
       "    .dataframe thead th {\n",
       "        text-align: right;\n",
       "    }\n",
       "</style>\n",
       "<table border=\"1\" class=\"dataframe\">\n",
       "  <thead>\n",
       "    <tr style=\"text-align: right;\">\n",
       "      <th></th>\n",
       "      <th>0</th>\n",
       "      <th>1</th>\n",
       "      <th>2</th>\n",
       "      <th>3</th>\n",
       "    </tr>\n",
       "  </thead>\n",
       "  <tbody>\n",
       "    <tr>\n",
       "      <td>0</td>\n",
       "      <td>ZOoT\\n\\n208\\nWhaowty\"s, Deady\\n\\n0 50 100 150...</td>\n",
       "      <td></td>\n",
       "      <td></td>\n",
       "      <td></td>\n",
       "    </tr>\n",
       "  </tbody>\n",
       "</table>\n",
       "</div>"
      ],
      "text/plain": [
       "                                                   0  1  2   3\n",
       "0   ZOoT\\n\\n208\\nWhaowty\"s, Deady\\n\\n0 50 100 150...         "
      ]
     },
     "execution_count": 68,
     "metadata": {},
     "output_type": "execute_result"
    }
   ],
   "source": [
    "dataframe.replace('\\n', ' ')"
   ]
  },
  {
   "cell_type": "code",
   "execution_count": null,
   "metadata": {},
   "outputs": [],
   "source": []
  }
 ],
 "metadata": {
  "kernelspec": {
   "display_name": "Python 3",
   "language": "python",
   "name": "python3"
  },
  "language_info": {
   "codemirror_mode": {
    "name": "ipython",
    "version": 3
   },
   "file_extension": ".py",
   "mimetype": "text/x-python",
   "name": "python",
   "nbconvert_exporter": "python",
   "pygments_lexer": "ipython3",
   "version": "3.7.4"
  }
 },
 "nbformat": 4,
 "nbformat_minor": 2
}
